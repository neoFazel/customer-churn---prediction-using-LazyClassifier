{
 "cells": [
  {
   "cell_type": "markdown",
   "id": "6c347c15",
   "metadata": {
    "execution": {
     "iopub.execute_input": "2023-06-03T11:59:41.231717Z",
     "iopub.status.busy": "2023-06-03T11:59:41.231156Z",
     "iopub.status.idle": "2023-06-03T11:59:41.239131Z",
     "shell.execute_reply": "2023-06-03T11:59:41.237809Z",
     "shell.execute_reply.started": "2023-06-03T11:59:41.231676Z"
    },
    "papermill": {
     "duration": 0.013227,
     "end_time": "2023-06-04T12:49:33.233752",
     "exception": false,
     "start_time": "2023-06-04T12:49:33.220525",
     "status": "completed"
    },
    "tags": []
   },
   "source": [
    "<h1 style=\"font-family:verdana;\">welcome to analysis of bank churn prediction using EDA(Exploratory Data Analysis) and LazyClassifire🏦</h1>"
   ]
  },
  {
   "cell_type": "markdown",
   "id": "7a01f970",
   "metadata": {
    "papermill": {
     "duration": 0.00844,
     "end_time": "2023-06-04T12:49:33.251098",
     "exception": false,
     "start_time": "2023-06-04T12:49:33.242658",
     "status": "completed"
    },
    "tags": []
   },
   "source": [
    "<p style=\"font-size:20px;\">table of content</p>\n",
    "<ul style=\"font-size:18px\">\n",
    "    <li>Introduction</li>\n",
    "    <li>Importing Required Libaries</li>\n",
    "    <li>Data Exploration</li>\n",
    "    <li>Exploratory Data Analysis</li>\n",
    "    <li>Modeling</li>\n",
    "    <li>End Note</li>\n",
    "</ul>"
   ]
  },
  {
   "cell_type": "markdown",
   "id": "c1899538",
   "metadata": {
    "execution": {
     "iopub.execute_input": "2023-06-03T12:12:14.264902Z",
     "iopub.status.busy": "2023-06-03T12:12:14.264387Z",
     "iopub.status.idle": "2023-06-03T12:12:14.275447Z",
     "shell.execute_reply": "2023-06-03T12:12:14.273510Z",
     "shell.execute_reply.started": "2023-06-03T12:12:14.264869Z"
    },
    "papermill": {
     "duration": 0.008406,
     "end_time": "2023-06-04T12:49:33.268282",
     "exception": false,
     "start_time": "2023-06-04T12:49:33.259876",
     "status": "completed"
    },
    "tags": []
   },
   "source": [
    "<h2 style=\"font-size:30px;\">introduction</h2>\n",
    "<p style=\"font-size:18px;\">In the world of finance, customer retention is key to a bank's success. Therefore, understanding why customers churn is a crucial aspect of business strategy. In this dataset, we have 10000 bank customers and their churn status. The goal is to predict and classify customer churn using a lazy classifier(LazyClassifier has around 29 pre-trained models which will help us find out the best model on basis of accuracy and time taken.) and exploratory data analysis (EDA). By analyzing this dataset, we can gain insights into the factors that contribute to customer churn and develop strategies to retain customers and improve overall business performance</p>"
   ]
  },
  {
   "cell_type": "markdown",
   "id": "fcbb21da",
   "metadata": {
    "execution": {
     "iopub.execute_input": "2023-06-03T12:40:23.489337Z",
     "iopub.status.busy": "2023-06-03T12:40:23.488793Z",
     "iopub.status.idle": "2023-06-03T12:40:23.499584Z",
     "shell.execute_reply": "2023-06-03T12:40:23.497670Z",
     "shell.execute_reply.started": "2023-06-03T12:40:23.489290Z"
    },
    "papermill": {
     "duration": 0.008313,
     "end_time": "2023-06-04T12:49:33.285615",
     "exception": false,
     "start_time": "2023-06-04T12:49:33.277302",
     "status": "completed"
    },
    "tags": []
   },
   "source": [
    "<h2 style=\"font-size:30px;\">importing required libaries</h2>"
   ]
  },
  {
   "cell_type": "code",
   "execution_count": 1,
   "id": "f265d9f0",
   "metadata": {
    "execution": {
     "iopub.execute_input": "2023-06-04T12:49:33.304797Z",
     "iopub.status.busy": "2023-06-04T12:49:33.304170Z",
     "iopub.status.idle": "2023-06-04T12:49:43.505364Z",
     "shell.execute_reply": "2023-06-04T12:49:43.504498Z"
    },
    "papermill": {
     "duration": 10.213344,
     "end_time": "2023-06-04T12:49:43.507544",
     "exception": false,
     "start_time": "2023-06-04T12:49:33.294200",
     "status": "completed"
    },
    "tags": []
   },
   "outputs": [
    {
     "name": "stdout",
     "output_type": "stream",
     "text": [
      "Collecting lazypredict\r\n",
      "  Downloading lazypredict-0.2.12-py2.py3-none-any.whl (12 kB)\r\n",
      "Requirement already satisfied: click in /opt/conda/lib/python3.10/site-packages (from lazypredict) (8.1.3)\r\n",
      "Requirement already satisfied: scikit-learn in /opt/conda/lib/python3.10/site-packages (from lazypredict) (1.2.2)\r\n",
      "Requirement already satisfied: pandas in /opt/conda/lib/python3.10/site-packages (from lazypredict) (1.5.3)\r\n",
      "Requirement already satisfied: tqdm in /opt/conda/lib/python3.10/site-packages (from lazypredict) (4.64.1)\r\n",
      "Requirement already satisfied: joblib in /opt/conda/lib/python3.10/site-packages (from lazypredict) (1.2.0)\r\n",
      "Requirement already satisfied: lightgbm in /opt/conda/lib/python3.10/site-packages (from lazypredict) (3.3.2)\r\n",
      "Requirement already satisfied: xgboost in /opt/conda/lib/python3.10/site-packages (from lazypredict) (1.7.5)\r\n",
      "Requirement already satisfied: wheel in /opt/conda/lib/python3.10/site-packages (from lightgbm->lazypredict) (0.40.0)\r\n",
      "Requirement already satisfied: numpy in /opt/conda/lib/python3.10/site-packages (from lightgbm->lazypredict) (1.23.5)\r\n",
      "Requirement already satisfied: scipy in /opt/conda/lib/python3.10/site-packages (from lightgbm->lazypredict) (1.10.1)\r\n",
      "Requirement already satisfied: threadpoolctl>=2.0.0 in /opt/conda/lib/python3.10/site-packages (from scikit-learn->lazypredict) (3.1.0)\r\n",
      "Requirement already satisfied: python-dateutil>=2.8.1 in /opt/conda/lib/python3.10/site-packages (from pandas->lazypredict) (2.8.2)\r\n",
      "Requirement already satisfied: pytz>=2020.1 in /opt/conda/lib/python3.10/site-packages (from pandas->lazypredict) (2023.3)\r\n",
      "Requirement already satisfied: six>=1.5 in /opt/conda/lib/python3.10/site-packages (from python-dateutil>=2.8.1->pandas->lazypredict) (1.16.0)\r\n",
      "Installing collected packages: lazypredict\r\n",
      "Successfully installed lazypredict-0.2.12\r\n",
      "\u001b[33mWARNING: Running pip as the 'root' user can result in broken permissions and conflicting behaviour with the system package manager. It is recommended to use a virtual environment instead: https://pip.pypa.io/warnings/venv\u001b[0m\u001b[33m\r\n",
      "\u001b[0m"
     ]
    }
   ],
   "source": [
    "!pip3 install -U lazypredict"
   ]
  },
  {
   "cell_type": "code",
   "execution_count": 2,
   "id": "32a7c798",
   "metadata": {
    "execution": {
     "iopub.execute_input": "2023-06-04T12:49:43.527352Z",
     "iopub.status.busy": "2023-06-04T12:49:43.526978Z",
     "iopub.status.idle": "2023-06-04T12:49:48.027271Z",
     "shell.execute_reply": "2023-06-04T12:49:48.026434Z"
    },
    "papermill": {
     "duration": 4.513016,
     "end_time": "2023-06-04T12:49:48.029695",
     "exception": false,
     "start_time": "2023-06-04T12:49:43.516679",
     "status": "completed"
    },
    "tags": []
   },
   "outputs": [],
   "source": [
    "import numpy as np\n",
    "import pandas as pd\n",
    "import matplotlib.pyplot as plt\n",
    "import seaborn as sns\n",
    "import plotly.express as px\n",
    "\n",
    "from sklearn.model_selection import train_test_split\n",
    "from sklearn.preprocessing import StandardScaler,LabelEncoder\n",
    "\n",
    "import lazypredict\n",
    "from lazypredict.Supervised import LazyClassifier\n"
   ]
  },
  {
   "cell_type": "markdown",
   "id": "1d2eee84",
   "metadata": {
    "papermill": {
     "duration": 0.00836,
     "end_time": "2023-06-04T12:49:48.047285",
     "exception": false,
     "start_time": "2023-06-04T12:49:48.038925",
     "status": "completed"
    },
    "tags": []
   },
   "source": [
    "<h2 style=\"font-size:34px;\">Data Exploration</h2>"
   ]
  },
  {
   "cell_type": "markdown",
   "id": "7cd8fe73",
   "metadata": {
    "papermill": {
     "duration": 0.008516,
     "end_time": "2023-06-04T12:49:48.064797",
     "exception": false,
     "start_time": "2023-06-04T12:49:48.056281",
     "status": "completed"
    },
    "tags": []
   },
   "source": [
    "<p style=\"font-size:20px\">in Data Exploration our goal is summarized in:</p>\n",
    "<ul style=\"font-size:17px\">\n",
    "    <li>Features Description</li>\n",
    "    <li>Null Value Distribution</li>\n",
    "    <li>Data Cleaning</li>\n",
    "    <li>Important Observations</li>\n",
    "</ul>"
   ]
  },
  {
   "cell_type": "markdown",
   "id": "c4bd4e06",
   "metadata": {
    "execution": {
     "iopub.execute_input": "2023-06-03T12:58:25.570598Z",
     "iopub.status.busy": "2023-06-03T12:58:25.569778Z",
     "iopub.status.idle": "2023-06-03T12:58:25.585784Z",
     "shell.execute_reply": "2023-06-03T12:58:25.584254Z",
     "shell.execute_reply.started": "2023-06-03T12:58:25.570561Z"
    },
    "papermill": {
     "duration": 0.008524,
     "end_time": "2023-06-04T12:49:48.082306",
     "exception": false,
     "start_time": "2023-06-04T12:49:48.073782",
     "status": "completed"
    },
    "tags": []
   },
   "source": [
    "\n",
    "<div style=\"font-size:15px; font-family:verdana;\"><h2 style=\"font-family:verdana;font-size:20px\">Feature Description:</h2>\n",
    "\n",
    "<ol>\n",
    "    <li style=\"font-family:verdana;\"><code style=\"font-family:verdana;\">Customer ID</code> - Unique ID given to identify a particular customer.</li>\n",
    "    <li style=\"font-family:verdana;\"><code style=\"font-family:verdana;\">Credit Score</code> - It is the score which determines the creditworthiness of a customer.</li>\n",
    "    <li style=\"font-family:verdana;\"><code style=\"font-family:verdana;\">Country</code> - The country where customer lives.</li>\n",
    "    <li style=\"font-family:verdana;\"><code style=\"font-family:verdana;\">Gender</code> - The Sex of customer.</li>\n",
    "    <li style=\"font-family:verdana;\"><code style=\"font-family:verdana;\">Age</code> - The age of customer.</li>\n",
    "    <li style=\"font-family:verdana;\"><code style=\"font-family:verdana;\">Tenure</code> - Number of years the customer has Bank Account in that Bank.</li>\n",
    "    <li style=\"font-family:verdana;\"><code style=\"font-family:verdana;\">Balance</code> - Amount of money present in customer's bank.</li>\n",
    "    <li style=\"font-family:verdana;\"><code style=\"font-family:verdana;\">Products Number</code> - Number of Products from that Bank.</li>\n",
    "    <li style=\"font-family:verdana;\"><code style=\"font-family:verdana;\">Credit Card</code> - Does the customer own a credit card of that Bank.</li>\n",
    "    <li style=\"font-family:verdana;\"><code style=\"font-family:verdana;\">Active Member</code> - Whether the customer is an active member of that Bank.</li>\n",
    "    <li style=\"font-family:verdana;\"><code style=\"font-family:verdana;\">Estimated Salary</code> - Total Income of the Customer.</li>\n",
    "    <li style=\"font-family:verdana;\"><code style=\"font-family:verdana;\">Churn</code> - Churn (Loss of existing customers) of the Bank.</li>\n",
    "</ol>\n",
    "</div>"
   ]
  },
  {
   "cell_type": "code",
   "execution_count": 3,
   "id": "41775f71",
   "metadata": {
    "execution": {
     "iopub.execute_input": "2023-06-04T12:49:48.101870Z",
     "iopub.status.busy": "2023-06-04T12:49:48.101428Z",
     "iopub.status.idle": "2023-06-04T12:49:48.167818Z",
     "shell.execute_reply": "2023-06-04T12:49:48.166974Z"
    },
    "papermill": {
     "duration": 0.078277,
     "end_time": "2023-06-04T12:49:48.169633",
     "exception": false,
     "start_time": "2023-06-04T12:49:48.091356",
     "status": "completed"
    },
    "tags": []
   },
   "outputs": [
    {
     "data": {
      "text/html": [
       "<div>\n",
       "<style scoped>\n",
       "    .dataframe tbody tr th:only-of-type {\n",
       "        vertical-align: middle;\n",
       "    }\n",
       "\n",
       "    .dataframe tbody tr th {\n",
       "        vertical-align: top;\n",
       "    }\n",
       "\n",
       "    .dataframe thead th {\n",
       "        text-align: right;\n",
       "    }\n",
       "</style>\n",
       "<table border=\"1\" class=\"dataframe\">\n",
       "  <thead>\n",
       "    <tr style=\"text-align: right;\">\n",
       "      <th></th>\n",
       "      <th>customer_id</th>\n",
       "      <th>credit_score</th>\n",
       "      <th>country</th>\n",
       "      <th>gender</th>\n",
       "      <th>age</th>\n",
       "      <th>tenure</th>\n",
       "      <th>balance</th>\n",
       "      <th>products_number</th>\n",
       "      <th>credit_card</th>\n",
       "      <th>active_member</th>\n",
       "      <th>estimated_salary</th>\n",
       "      <th>churn</th>\n",
       "    </tr>\n",
       "  </thead>\n",
       "  <tbody>\n",
       "    <tr>\n",
       "      <th>0</th>\n",
       "      <td>15634602</td>\n",
       "      <td>619</td>\n",
       "      <td>France</td>\n",
       "      <td>Female</td>\n",
       "      <td>42</td>\n",
       "      <td>2</td>\n",
       "      <td>0.00</td>\n",
       "      <td>1</td>\n",
       "      <td>1</td>\n",
       "      <td>1</td>\n",
       "      <td>101348.88</td>\n",
       "      <td>1</td>\n",
       "    </tr>\n",
       "    <tr>\n",
       "      <th>1</th>\n",
       "      <td>15647311</td>\n",
       "      <td>608</td>\n",
       "      <td>Spain</td>\n",
       "      <td>Female</td>\n",
       "      <td>41</td>\n",
       "      <td>1</td>\n",
       "      <td>83807.86</td>\n",
       "      <td>1</td>\n",
       "      <td>0</td>\n",
       "      <td>1</td>\n",
       "      <td>112542.58</td>\n",
       "      <td>0</td>\n",
       "    </tr>\n",
       "    <tr>\n",
       "      <th>2</th>\n",
       "      <td>15619304</td>\n",
       "      <td>502</td>\n",
       "      <td>France</td>\n",
       "      <td>Female</td>\n",
       "      <td>42</td>\n",
       "      <td>8</td>\n",
       "      <td>159660.80</td>\n",
       "      <td>3</td>\n",
       "      <td>1</td>\n",
       "      <td>0</td>\n",
       "      <td>113931.57</td>\n",
       "      <td>1</td>\n",
       "    </tr>\n",
       "    <tr>\n",
       "      <th>3</th>\n",
       "      <td>15701354</td>\n",
       "      <td>699</td>\n",
       "      <td>France</td>\n",
       "      <td>Female</td>\n",
       "      <td>39</td>\n",
       "      <td>1</td>\n",
       "      <td>0.00</td>\n",
       "      <td>2</td>\n",
       "      <td>0</td>\n",
       "      <td>0</td>\n",
       "      <td>93826.63</td>\n",
       "      <td>0</td>\n",
       "    </tr>\n",
       "    <tr>\n",
       "      <th>4</th>\n",
       "      <td>15737888</td>\n",
       "      <td>850</td>\n",
       "      <td>Spain</td>\n",
       "      <td>Female</td>\n",
       "      <td>43</td>\n",
       "      <td>2</td>\n",
       "      <td>125510.82</td>\n",
       "      <td>1</td>\n",
       "      <td>1</td>\n",
       "      <td>1</td>\n",
       "      <td>79084.10</td>\n",
       "      <td>0</td>\n",
       "    </tr>\n",
       "    <tr>\n",
       "      <th>5</th>\n",
       "      <td>15574012</td>\n",
       "      <td>645</td>\n",
       "      <td>Spain</td>\n",
       "      <td>Male</td>\n",
       "      <td>44</td>\n",
       "      <td>8</td>\n",
       "      <td>113755.78</td>\n",
       "      <td>2</td>\n",
       "      <td>1</td>\n",
       "      <td>0</td>\n",
       "      <td>149756.71</td>\n",
       "      <td>1</td>\n",
       "    </tr>\n",
       "    <tr>\n",
       "      <th>6</th>\n",
       "      <td>15592531</td>\n",
       "      <td>822</td>\n",
       "      <td>France</td>\n",
       "      <td>Male</td>\n",
       "      <td>50</td>\n",
       "      <td>7</td>\n",
       "      <td>0.00</td>\n",
       "      <td>2</td>\n",
       "      <td>1</td>\n",
       "      <td>1</td>\n",
       "      <td>10062.80</td>\n",
       "      <td>0</td>\n",
       "    </tr>\n",
       "    <tr>\n",
       "      <th>7</th>\n",
       "      <td>15656148</td>\n",
       "      <td>376</td>\n",
       "      <td>Germany</td>\n",
       "      <td>Female</td>\n",
       "      <td>29</td>\n",
       "      <td>4</td>\n",
       "      <td>115046.74</td>\n",
       "      <td>4</td>\n",
       "      <td>1</td>\n",
       "      <td>0</td>\n",
       "      <td>119346.88</td>\n",
       "      <td>1</td>\n",
       "    </tr>\n",
       "    <tr>\n",
       "      <th>8</th>\n",
       "      <td>15792365</td>\n",
       "      <td>501</td>\n",
       "      <td>France</td>\n",
       "      <td>Male</td>\n",
       "      <td>44</td>\n",
       "      <td>4</td>\n",
       "      <td>142051.07</td>\n",
       "      <td>2</td>\n",
       "      <td>0</td>\n",
       "      <td>1</td>\n",
       "      <td>74940.50</td>\n",
       "      <td>0</td>\n",
       "    </tr>\n",
       "    <tr>\n",
       "      <th>9</th>\n",
       "      <td>15592389</td>\n",
       "      <td>684</td>\n",
       "      <td>France</td>\n",
       "      <td>Male</td>\n",
       "      <td>27</td>\n",
       "      <td>2</td>\n",
       "      <td>134603.88</td>\n",
       "      <td>1</td>\n",
       "      <td>1</td>\n",
       "      <td>1</td>\n",
       "      <td>71725.73</td>\n",
       "      <td>0</td>\n",
       "    </tr>\n",
       "  </tbody>\n",
       "</table>\n",
       "</div>"
      ],
      "text/plain": [
       "   customer_id  credit_score  country  gender  age  tenure   balance  \\\n",
       "0     15634602           619   France  Female   42       2      0.00   \n",
       "1     15647311           608    Spain  Female   41       1  83807.86   \n",
       "2     15619304           502   France  Female   42       8 159660.80   \n",
       "3     15701354           699   France  Female   39       1      0.00   \n",
       "4     15737888           850    Spain  Female   43       2 125510.82   \n",
       "5     15574012           645    Spain    Male   44       8 113755.78   \n",
       "6     15592531           822   France    Male   50       7      0.00   \n",
       "7     15656148           376  Germany  Female   29       4 115046.74   \n",
       "8     15792365           501   France    Male   44       4 142051.07   \n",
       "9     15592389           684   France    Male   27       2 134603.88   \n",
       "\n",
       "   products_number  credit_card  active_member  estimated_salary  churn  \n",
       "0                1            1              1         101348.88      1  \n",
       "1                1            0              1         112542.58      0  \n",
       "2                3            1              0         113931.57      1  \n",
       "3                2            0              0          93826.63      0  \n",
       "4                1            1              1          79084.10      0  \n",
       "5                2            1              0         149756.71      1  \n",
       "6                2            1              1          10062.80      0  \n",
       "7                4            1              0         119346.88      1  \n",
       "8                2            0              1          74940.50      0  \n",
       "9                1            1              1          71725.73      0  "
      ]
     },
     "execution_count": 3,
     "metadata": {},
     "output_type": "execute_result"
    }
   ],
   "source": [
    "df = pd.read_csv(\"../input/bank-customer-churn-dataset/Bank Customer Churn Prediction.csv\")\n",
    "df.head(10)"
   ]
  },
  {
   "cell_type": "code",
   "execution_count": 4,
   "id": "c1604636",
   "metadata": {
    "execution": {
     "iopub.execute_input": "2023-06-04T12:49:48.189570Z",
     "iopub.status.busy": "2023-06-04T12:49:48.189050Z",
     "iopub.status.idle": "2023-06-04T12:49:48.194455Z",
     "shell.execute_reply": "2023-06-04T12:49:48.193611Z"
    },
    "papermill": {
     "duration": 0.017969,
     "end_time": "2023-06-04T12:49:48.196810",
     "exception": false,
     "start_time": "2023-06-04T12:49:48.178841",
     "status": "completed"
    },
    "tags": []
   },
   "outputs": [
    {
     "data": {
      "text/plain": [
       "(10000, 12)"
      ]
     },
     "execution_count": 4,
     "metadata": {},
     "output_type": "execute_result"
    }
   ],
   "source": [
    "df.shape"
   ]
  },
  {
   "cell_type": "code",
   "execution_count": 5,
   "id": "0730d0a9",
   "metadata": {
    "execution": {
     "iopub.execute_input": "2023-06-04T12:49:48.218976Z",
     "iopub.status.busy": "2023-06-04T12:49:48.218631Z",
     "iopub.status.idle": "2023-06-04T12:49:48.225613Z",
     "shell.execute_reply": "2023-06-04T12:49:48.224582Z"
    },
    "papermill": {
     "duration": 0.01988,
     "end_time": "2023-06-04T12:49:48.227516",
     "exception": false,
     "start_time": "2023-06-04T12:49:48.207636",
     "status": "completed"
    },
    "tags": []
   },
   "outputs": [
    {
     "data": {
      "text/plain": [
       "customer_id           int64\n",
       "credit_score          int64\n",
       "country              object\n",
       "gender               object\n",
       "age                   int64\n",
       "tenure                int64\n",
       "balance             float64\n",
       "products_number       int64\n",
       "credit_card           int64\n",
       "active_member         int64\n",
       "estimated_salary    float64\n",
       "churn                 int64\n",
       "dtype: object"
      ]
     },
     "execution_count": 5,
     "metadata": {},
     "output_type": "execute_result"
    }
   ],
   "source": [
    "# note: churn must be int for our modeling\n",
    "df.dtypes"
   ]
  },
  {
   "cell_type": "code",
   "execution_count": 6,
   "id": "9962b0e7",
   "metadata": {
    "execution": {
     "iopub.execute_input": "2023-06-04T12:49:48.248308Z",
     "iopub.status.busy": "2023-06-04T12:49:48.247333Z",
     "iopub.status.idle": "2023-06-04T12:49:48.283791Z",
     "shell.execute_reply": "2023-06-04T12:49:48.282683Z"
    },
    "papermill": {
     "duration": 0.048793,
     "end_time": "2023-06-04T12:49:48.285717",
     "exception": false,
     "start_time": "2023-06-04T12:49:48.236924",
     "status": "completed"
    },
    "tags": []
   },
   "outputs": [
    {
     "data": {
      "text/html": [
       "<div>\n",
       "<style scoped>\n",
       "    .dataframe tbody tr th:only-of-type {\n",
       "        vertical-align: middle;\n",
       "    }\n",
       "\n",
       "    .dataframe tbody tr th {\n",
       "        vertical-align: top;\n",
       "    }\n",
       "\n",
       "    .dataframe thead th {\n",
       "        text-align: right;\n",
       "    }\n",
       "</style>\n",
       "<table border=\"1\" class=\"dataframe\">\n",
       "  <thead>\n",
       "    <tr style=\"text-align: right;\">\n",
       "      <th></th>\n",
       "      <th>customer_id</th>\n",
       "      <th>credit_score</th>\n",
       "      <th>age</th>\n",
       "      <th>tenure</th>\n",
       "      <th>balance</th>\n",
       "      <th>products_number</th>\n",
       "      <th>credit_card</th>\n",
       "      <th>active_member</th>\n",
       "      <th>estimated_salary</th>\n",
       "      <th>churn</th>\n",
       "    </tr>\n",
       "  </thead>\n",
       "  <tbody>\n",
       "    <tr>\n",
       "      <th>count</th>\n",
       "      <td>10000.00</td>\n",
       "      <td>10000.00</td>\n",
       "      <td>10000.00</td>\n",
       "      <td>10000.00</td>\n",
       "      <td>10000.00</td>\n",
       "      <td>10000.00</td>\n",
       "      <td>10000.00</td>\n",
       "      <td>10000.00</td>\n",
       "      <td>10000.00</td>\n",
       "      <td>10000.00</td>\n",
       "    </tr>\n",
       "    <tr>\n",
       "      <th>mean</th>\n",
       "      <td>15690940.57</td>\n",
       "      <td>650.53</td>\n",
       "      <td>38.92</td>\n",
       "      <td>5.01</td>\n",
       "      <td>76485.89</td>\n",
       "      <td>1.53</td>\n",
       "      <td>0.71</td>\n",
       "      <td>0.52</td>\n",
       "      <td>100090.24</td>\n",
       "      <td>0.20</td>\n",
       "    </tr>\n",
       "    <tr>\n",
       "      <th>std</th>\n",
       "      <td>71936.19</td>\n",
       "      <td>96.65</td>\n",
       "      <td>10.49</td>\n",
       "      <td>2.89</td>\n",
       "      <td>62397.41</td>\n",
       "      <td>0.58</td>\n",
       "      <td>0.46</td>\n",
       "      <td>0.50</td>\n",
       "      <td>57510.49</td>\n",
       "      <td>0.40</td>\n",
       "    </tr>\n",
       "    <tr>\n",
       "      <th>min</th>\n",
       "      <td>15565701.00</td>\n",
       "      <td>350.00</td>\n",
       "      <td>18.00</td>\n",
       "      <td>0.00</td>\n",
       "      <td>0.00</td>\n",
       "      <td>1.00</td>\n",
       "      <td>0.00</td>\n",
       "      <td>0.00</td>\n",
       "      <td>11.58</td>\n",
       "      <td>0.00</td>\n",
       "    </tr>\n",
       "    <tr>\n",
       "      <th>25%</th>\n",
       "      <td>15628528.25</td>\n",
       "      <td>584.00</td>\n",
       "      <td>32.00</td>\n",
       "      <td>3.00</td>\n",
       "      <td>0.00</td>\n",
       "      <td>1.00</td>\n",
       "      <td>0.00</td>\n",
       "      <td>0.00</td>\n",
       "      <td>51002.11</td>\n",
       "      <td>0.00</td>\n",
       "    </tr>\n",
       "    <tr>\n",
       "      <th>50%</th>\n",
       "      <td>15690738.00</td>\n",
       "      <td>652.00</td>\n",
       "      <td>37.00</td>\n",
       "      <td>5.00</td>\n",
       "      <td>97198.54</td>\n",
       "      <td>1.00</td>\n",
       "      <td>1.00</td>\n",
       "      <td>1.00</td>\n",
       "      <td>100193.91</td>\n",
       "      <td>0.00</td>\n",
       "    </tr>\n",
       "    <tr>\n",
       "      <th>75%</th>\n",
       "      <td>15753233.75</td>\n",
       "      <td>718.00</td>\n",
       "      <td>44.00</td>\n",
       "      <td>7.00</td>\n",
       "      <td>127644.24</td>\n",
       "      <td>2.00</td>\n",
       "      <td>1.00</td>\n",
       "      <td>1.00</td>\n",
       "      <td>149388.25</td>\n",
       "      <td>0.00</td>\n",
       "    </tr>\n",
       "    <tr>\n",
       "      <th>max</th>\n",
       "      <td>15815690.00</td>\n",
       "      <td>850.00</td>\n",
       "      <td>92.00</td>\n",
       "      <td>10.00</td>\n",
       "      <td>250898.09</td>\n",
       "      <td>4.00</td>\n",
       "      <td>1.00</td>\n",
       "      <td>1.00</td>\n",
       "      <td>199992.48</td>\n",
       "      <td>1.00</td>\n",
       "    </tr>\n",
       "  </tbody>\n",
       "</table>\n",
       "</div>"
      ],
      "text/plain": [
       "       customer_id  credit_score      age   tenure   balance  products_number  \\\n",
       "count     10000.00      10000.00 10000.00 10000.00  10000.00         10000.00   \n",
       "mean   15690940.57        650.53    38.92     5.01  76485.89             1.53   \n",
       "std       71936.19         96.65    10.49     2.89  62397.41             0.58   \n",
       "min    15565701.00        350.00    18.00     0.00      0.00             1.00   \n",
       "25%    15628528.25        584.00    32.00     3.00      0.00             1.00   \n",
       "50%    15690738.00        652.00    37.00     5.00  97198.54             1.00   \n",
       "75%    15753233.75        718.00    44.00     7.00 127644.24             2.00   \n",
       "max    15815690.00        850.00    92.00    10.00 250898.09             4.00   \n",
       "\n",
       "       credit_card  active_member  estimated_salary    churn  \n",
       "count     10000.00       10000.00          10000.00 10000.00  \n",
       "mean          0.71           0.52         100090.24     0.20  \n",
       "std           0.46           0.50          57510.49     0.40  \n",
       "min           0.00           0.00             11.58     0.00  \n",
       "25%           0.00           0.00          51002.11     0.00  \n",
       "50%           1.00           1.00         100193.91     0.00  \n",
       "75%           1.00           1.00         149388.25     0.00  \n",
       "max           1.00           1.00         199992.48     1.00  "
      ]
     },
     "execution_count": 6,
     "metadata": {},
     "output_type": "execute_result"
    }
   ],
   "source": [
    "df.describe()"
   ]
  },
  {
   "cell_type": "code",
   "execution_count": 7,
   "id": "f0183216",
   "metadata": {
    "execution": {
     "iopub.execute_input": "2023-06-04T12:49:48.305769Z",
     "iopub.status.busy": "2023-06-04T12:49:48.305330Z",
     "iopub.status.idle": "2023-06-04T12:49:48.327583Z",
     "shell.execute_reply": "2023-06-04T12:49:48.326600Z"
    },
    "papermill": {
     "duration": 0.034341,
     "end_time": "2023-06-04T12:49:48.329528",
     "exception": false,
     "start_time": "2023-06-04T12:49:48.295187",
     "status": "completed"
    },
    "tags": []
   },
   "outputs": [
    {
     "name": "stdout",
     "output_type": "stream",
     "text": [
      "<class 'pandas.core.frame.DataFrame'>\n",
      "RangeIndex: 10000 entries, 0 to 9999\n",
      "Data columns (total 12 columns):\n",
      " #   Column            Non-Null Count  Dtype  \n",
      "---  ------            --------------  -----  \n",
      " 0   customer_id       10000 non-null  int64  \n",
      " 1   credit_score      10000 non-null  int64  \n",
      " 2   country           10000 non-null  object \n",
      " 3   gender            10000 non-null  object \n",
      " 4   age               10000 non-null  int64  \n",
      " 5   tenure            10000 non-null  int64  \n",
      " 6   balance           10000 non-null  float64\n",
      " 7   products_number   10000 non-null  int64  \n",
      " 8   credit_card       10000 non-null  int64  \n",
      " 9   active_member     10000 non-null  int64  \n",
      " 10  estimated_salary  10000 non-null  float64\n",
      " 11  churn             10000 non-null  int64  \n",
      "dtypes: float64(2), int64(8), object(2)\n",
      "memory usage: 937.6+ KB\n"
     ]
    }
   ],
   "source": [
    "df.info()"
   ]
  },
  {
   "cell_type": "code",
   "execution_count": 8,
   "id": "b203169f",
   "metadata": {
    "execution": {
     "iopub.execute_input": "2023-06-04T12:49:48.349564Z",
     "iopub.status.busy": "2023-06-04T12:49:48.349230Z",
     "iopub.status.idle": "2023-06-04T12:49:48.361336Z",
     "shell.execute_reply": "2023-06-04T12:49:48.360480Z"
    },
    "papermill": {
     "duration": 0.023964,
     "end_time": "2023-06-04T12:49:48.362834",
     "exception": false,
     "start_time": "2023-06-04T12:49:48.338870",
     "status": "completed"
    },
    "tags": []
   },
   "outputs": [
    {
     "data": {
      "text/plain": [
       "customer_id         10000\n",
       "credit_score          460\n",
       "country                 3\n",
       "gender                  2\n",
       "age                    70\n",
       "tenure                 11\n",
       "balance              6382\n",
       "products_number         4\n",
       "credit_card             2\n",
       "active_member           2\n",
       "estimated_salary     9999\n",
       "churn                   2\n",
       "dtype: int64"
      ]
     },
     "execution_count": 8,
     "metadata": {},
     "output_type": "execute_result"
    }
   ],
   "source": [
    "df.nunique()"
   ]
  },
  {
   "cell_type": "markdown",
   "id": "ee9989d7",
   "metadata": {
    "papermill": {
     "duration": 0.009199,
     "end_time": "2023-06-04T12:49:48.381673",
     "exception": false,
     "start_time": "2023-06-04T12:49:48.372474",
     "status": "completed"
    },
    "tags": []
   },
   "source": [
    "<h2 style=\"font-family:verdana;font-size:20px\">Null Value Distribution</h2>"
   ]
  },
  {
   "cell_type": "code",
   "execution_count": 9,
   "id": "9c905609",
   "metadata": {
    "execution": {
     "iopub.execute_input": "2023-06-04T12:49:48.402301Z",
     "iopub.status.busy": "2023-06-04T12:49:48.401407Z",
     "iopub.status.idle": "2023-06-04T12:49:48.411861Z",
     "shell.execute_reply": "2023-06-04T12:49:48.410993Z"
    },
    "papermill": {
     "duration": 0.022356,
     "end_time": "2023-06-04T12:49:48.413566",
     "exception": false,
     "start_time": "2023-06-04T12:49:48.391210",
     "status": "completed"
    },
    "tags": []
   },
   "outputs": [
    {
     "data": {
      "text/plain": [
       "customer_id         0\n",
       "credit_score        0\n",
       "country             0\n",
       "gender              0\n",
       "age                 0\n",
       "tenure              0\n",
       "balance             0\n",
       "products_number     0\n",
       "credit_card         0\n",
       "active_member       0\n",
       "estimated_salary    0\n",
       "churn               0\n",
       "dtype: int64"
      ]
     },
     "execution_count": 9,
     "metadata": {},
     "output_type": "execute_result"
    }
   ],
   "source": [
    "df.isnull().sum()"
   ]
  },
  {
   "cell_type": "markdown",
   "id": "4104abfc",
   "metadata": {
    "execution": {
     "iopub.execute_input": "2023-06-03T13:06:24.462033Z",
     "iopub.status.busy": "2023-06-03T13:06:24.460342Z",
     "iopub.status.idle": "2023-06-03T13:06:24.469443Z",
     "shell.execute_reply": "2023-06-03T13:06:24.468168Z",
     "shell.execute_reply.started": "2023-06-03T13:06:24.461973Z"
    },
    "papermill": {
     "duration": 0.009157,
     "end_time": "2023-06-04T12:49:48.432152",
     "exception": false,
     "start_time": "2023-06-04T12:49:48.422995",
     "status": "completed"
    },
    "tags": []
   },
   "source": [
    "<h2 style=\"font-family:verdana;font-size:20px\">Data Cleaning</h2>\n",
    "<p style=\"font-size:16px\">according we do not have any null values we can keep moving forward but for more information about the procces of data cleaning visit link below: <br>\n",
    "    <a href=\"https://www.kaggle.com/getting-started/250322\">Data Cleaning Process</a><br>\n",
    "    <code style=\"font-family:verdana;\">Customer ID</code>-Since It is useless, we will drop it. This will reduce the Time taken by model and will also boost accuracy significantly.\n",
    "\n",
    "</p>"
   ]
  },
  {
   "cell_type": "code",
   "execution_count": 10,
   "id": "9d18af03",
   "metadata": {
    "execution": {
     "iopub.execute_input": "2023-06-04T12:49:48.453325Z",
     "iopub.status.busy": "2023-06-04T12:49:48.452420Z",
     "iopub.status.idle": "2023-06-04T12:49:48.470230Z",
     "shell.execute_reply": "2023-06-04T12:49:48.469512Z"
    },
    "papermill": {
     "duration": 0.030191,
     "end_time": "2023-06-04T12:49:48.471824",
     "exception": false,
     "start_time": "2023-06-04T12:49:48.441633",
     "status": "completed"
    },
    "tags": []
   },
   "outputs": [
    {
     "data": {
      "text/html": [
       "<div>\n",
       "<style scoped>\n",
       "    .dataframe tbody tr th:only-of-type {\n",
       "        vertical-align: middle;\n",
       "    }\n",
       "\n",
       "    .dataframe tbody tr th {\n",
       "        vertical-align: top;\n",
       "    }\n",
       "\n",
       "    .dataframe thead th {\n",
       "        text-align: right;\n",
       "    }\n",
       "</style>\n",
       "<table border=\"1\" class=\"dataframe\">\n",
       "  <thead>\n",
       "    <tr style=\"text-align: right;\">\n",
       "      <th></th>\n",
       "      <th>credit_score</th>\n",
       "      <th>country</th>\n",
       "      <th>gender</th>\n",
       "      <th>age</th>\n",
       "      <th>tenure</th>\n",
       "      <th>balance</th>\n",
       "      <th>products_number</th>\n",
       "      <th>credit_card</th>\n",
       "      <th>active_member</th>\n",
       "      <th>estimated_salary</th>\n",
       "      <th>churn</th>\n",
       "    </tr>\n",
       "  </thead>\n",
       "  <tbody>\n",
       "    <tr>\n",
       "      <th>0</th>\n",
       "      <td>619</td>\n",
       "      <td>France</td>\n",
       "      <td>Female</td>\n",
       "      <td>42</td>\n",
       "      <td>2</td>\n",
       "      <td>0.00</td>\n",
       "      <td>1</td>\n",
       "      <td>1</td>\n",
       "      <td>1</td>\n",
       "      <td>101348.88</td>\n",
       "      <td>1</td>\n",
       "    </tr>\n",
       "    <tr>\n",
       "      <th>1</th>\n",
       "      <td>608</td>\n",
       "      <td>Spain</td>\n",
       "      <td>Female</td>\n",
       "      <td>41</td>\n",
       "      <td>1</td>\n",
       "      <td>83807.86</td>\n",
       "      <td>1</td>\n",
       "      <td>0</td>\n",
       "      <td>1</td>\n",
       "      <td>112542.58</td>\n",
       "      <td>0</td>\n",
       "    </tr>\n",
       "    <tr>\n",
       "      <th>2</th>\n",
       "      <td>502</td>\n",
       "      <td>France</td>\n",
       "      <td>Female</td>\n",
       "      <td>42</td>\n",
       "      <td>8</td>\n",
       "      <td>159660.80</td>\n",
       "      <td>3</td>\n",
       "      <td>1</td>\n",
       "      <td>0</td>\n",
       "      <td>113931.57</td>\n",
       "      <td>1</td>\n",
       "    </tr>\n",
       "    <tr>\n",
       "      <th>3</th>\n",
       "      <td>699</td>\n",
       "      <td>France</td>\n",
       "      <td>Female</td>\n",
       "      <td>39</td>\n",
       "      <td>1</td>\n",
       "      <td>0.00</td>\n",
       "      <td>2</td>\n",
       "      <td>0</td>\n",
       "      <td>0</td>\n",
       "      <td>93826.63</td>\n",
       "      <td>0</td>\n",
       "    </tr>\n",
       "    <tr>\n",
       "      <th>4</th>\n",
       "      <td>850</td>\n",
       "      <td>Spain</td>\n",
       "      <td>Female</td>\n",
       "      <td>43</td>\n",
       "      <td>2</td>\n",
       "      <td>125510.82</td>\n",
       "      <td>1</td>\n",
       "      <td>1</td>\n",
       "      <td>1</td>\n",
       "      <td>79084.10</td>\n",
       "      <td>0</td>\n",
       "    </tr>\n",
       "    <tr>\n",
       "      <th>...</th>\n",
       "      <td>...</td>\n",
       "      <td>...</td>\n",
       "      <td>...</td>\n",
       "      <td>...</td>\n",
       "      <td>...</td>\n",
       "      <td>...</td>\n",
       "      <td>...</td>\n",
       "      <td>...</td>\n",
       "      <td>...</td>\n",
       "      <td>...</td>\n",
       "      <td>...</td>\n",
       "    </tr>\n",
       "    <tr>\n",
       "      <th>9995</th>\n",
       "      <td>771</td>\n",
       "      <td>France</td>\n",
       "      <td>Male</td>\n",
       "      <td>39</td>\n",
       "      <td>5</td>\n",
       "      <td>0.00</td>\n",
       "      <td>2</td>\n",
       "      <td>1</td>\n",
       "      <td>0</td>\n",
       "      <td>96270.64</td>\n",
       "      <td>0</td>\n",
       "    </tr>\n",
       "    <tr>\n",
       "      <th>9996</th>\n",
       "      <td>516</td>\n",
       "      <td>France</td>\n",
       "      <td>Male</td>\n",
       "      <td>35</td>\n",
       "      <td>10</td>\n",
       "      <td>57369.61</td>\n",
       "      <td>1</td>\n",
       "      <td>1</td>\n",
       "      <td>1</td>\n",
       "      <td>101699.77</td>\n",
       "      <td>0</td>\n",
       "    </tr>\n",
       "    <tr>\n",
       "      <th>9997</th>\n",
       "      <td>709</td>\n",
       "      <td>France</td>\n",
       "      <td>Female</td>\n",
       "      <td>36</td>\n",
       "      <td>7</td>\n",
       "      <td>0.00</td>\n",
       "      <td>1</td>\n",
       "      <td>0</td>\n",
       "      <td>1</td>\n",
       "      <td>42085.58</td>\n",
       "      <td>1</td>\n",
       "    </tr>\n",
       "    <tr>\n",
       "      <th>9998</th>\n",
       "      <td>772</td>\n",
       "      <td>Germany</td>\n",
       "      <td>Male</td>\n",
       "      <td>42</td>\n",
       "      <td>3</td>\n",
       "      <td>75075.31</td>\n",
       "      <td>2</td>\n",
       "      <td>1</td>\n",
       "      <td>0</td>\n",
       "      <td>92888.52</td>\n",
       "      <td>1</td>\n",
       "    </tr>\n",
       "    <tr>\n",
       "      <th>9999</th>\n",
       "      <td>792</td>\n",
       "      <td>France</td>\n",
       "      <td>Female</td>\n",
       "      <td>28</td>\n",
       "      <td>4</td>\n",
       "      <td>130142.79</td>\n",
       "      <td>1</td>\n",
       "      <td>1</td>\n",
       "      <td>0</td>\n",
       "      <td>38190.78</td>\n",
       "      <td>0</td>\n",
       "    </tr>\n",
       "  </tbody>\n",
       "</table>\n",
       "<p>10000 rows × 11 columns</p>\n",
       "</div>"
      ],
      "text/plain": [
       "      credit_score  country  gender  age  tenure   balance  products_number  \\\n",
       "0              619   France  Female   42       2      0.00                1   \n",
       "1              608    Spain  Female   41       1  83807.86                1   \n",
       "2              502   France  Female   42       8 159660.80                3   \n",
       "3              699   France  Female   39       1      0.00                2   \n",
       "4              850    Spain  Female   43       2 125510.82                1   \n",
       "...            ...      ...     ...  ...     ...       ...              ...   \n",
       "9995           771   France    Male   39       5      0.00                2   \n",
       "9996           516   France    Male   35      10  57369.61                1   \n",
       "9997           709   France  Female   36       7      0.00                1   \n",
       "9998           772  Germany    Male   42       3  75075.31                2   \n",
       "9999           792   France  Female   28       4 130142.79                1   \n",
       "\n",
       "      credit_card  active_member  estimated_salary  churn  \n",
       "0               1              1         101348.88      1  \n",
       "1               0              1         112542.58      0  \n",
       "2               1              0         113931.57      1  \n",
       "3               0              0          93826.63      0  \n",
       "4               1              1          79084.10      0  \n",
       "...           ...            ...               ...    ...  \n",
       "9995            1              0          96270.64      0  \n",
       "9996            1              1         101699.77      0  \n",
       "9997            0              1          42085.58      1  \n",
       "9998            1              0          92888.52      1  \n",
       "9999            1              0          38190.78      0  \n",
       "\n",
       "[10000 rows x 11 columns]"
      ]
     },
     "execution_count": 10,
     "metadata": {},
     "output_type": "execute_result"
    }
   ],
   "source": [
    "df.drop('customer_id', axis=1)\n"
   ]
  },
  {
   "cell_type": "markdown",
   "id": "9d1070b6",
   "metadata": {
    "papermill": {
     "duration": 0.01064,
     "end_time": "2023-06-04T12:49:48.493017",
     "exception": false,
     "start_time": "2023-06-04T12:49:48.482377",
     "status": "completed"
    },
    "tags": []
   },
   "source": [
    "<h3 style=\"font-family:verdana;font-size:20px\">⭐Important Obsevation</h3>\n",
    "<ul style=\"font-size:20px\">\n",
    "    <li>There are total of 12 columns and 10000 rows in data.</li>\n",
    "    <li>no missing value.</li>\n",
    "    <li>costumer id dropped</li>\n",
    "    <li>target is churn(binary 0 or 1)</li>\n",
    "    <li>costumers are from 3 countires</li>\n",
    "</ul>"
   ]
  },
  {
   "cell_type": "markdown",
   "id": "5edeef0c",
   "metadata": {
    "papermill": {
     "duration": 0.009504,
     "end_time": "2023-06-04T12:49:48.512260",
     "exception": false,
     "start_time": "2023-06-04T12:49:48.502756",
     "status": "completed"
    },
    "tags": []
   },
   "source": [
    "<h2 style=\"font-size:34px;\">Exploratory Data Analysis</h2>\n",
    "<p style=\"font-size:18px;\">Exploratory data analysis (EDA) is a process of analyzing and summarizing data sets to gain insights and understanding about the data. EDA involves using statistical and visualization techniques to identify patterns, trends, and relationships in the data, as well as to detect any outliers or anomalies. The goal of EDA is to explore the data in a way that helps to generate hypotheses, test assumptions, and inform further analysis."
   ]
  },
  {
   "cell_type": "markdown",
   "id": "08bbaaa2",
   "metadata": {
    "papermill": {
     "duration": 0.009414,
     "end_time": "2023-06-04T12:49:48.531654",
     "exception": false,
     "start_time": "2023-06-04T12:49:48.522240",
     "status": "completed"
    },
    "tags": []
   },
   "source": [
    "<p style=\"font-size: 18px\">verifying the correlation between our variables using HEATMAP</p>\n",
    "\n",
    "<p>In machine learning projects, a <b>heatmap</b> can be used to visualize the correlation between features in a dataset. A heatmap is a graphical representation of data where the values are represented by colors. In the context of machine learning, a heatmap can help to identify which features are most strongly correlated with each other, and which features are most strongly correlated with the target variable. This information can be used to inform feature selection or engineering, as well as to understand the relationships between variables in the dataset. Heatmaps can also be used to identify any missing or incomplete data in the dataset.</p>"
   ]
  },
  {
   "cell_type": "code",
   "execution_count": 11,
   "id": "b706e3ab",
   "metadata": {
    "execution": {
     "iopub.execute_input": "2023-06-04T12:49:48.552713Z",
     "iopub.status.busy": "2023-06-04T12:49:48.551646Z",
     "iopub.status.idle": "2023-06-04T12:49:49.124957Z",
     "shell.execute_reply": "2023-06-04T12:49:49.124075Z"
    },
    "papermill": {
     "duration": 0.58567,
     "end_time": "2023-06-04T12:49:49.126746",
     "exception": false,
     "start_time": "2023-06-04T12:49:48.541076",
     "status": "completed"
    },
    "tags": []
   },
   "outputs": [
    {
     "data": {
      "text/plain": [
       "<Axes: >"
      ]
     },
     "execution_count": 11,
     "metadata": {},
     "output_type": "execute_result"
    },
    {
     "data": {
      "image/png": "[encoded data removed]",
      "text/plain": [
       "<Figure size 1400x700 with 2 Axes>"
      ]
     },
     "metadata": {},
     "output_type": "display_data"
    }
   ],
   "source": [
    "correlation = df.corr().round(2)\n",
    "plt.figure(figsize = (14,7))\n",
    "sns.heatmap(correlation, annot = True, cmap = 'YlOrBr')\n"
   ]
  },
  {
   "cell_type": "markdown",
   "id": "0373a50c",
   "metadata": {
    "papermill": {
     "duration": 0.011515,
     "end_time": "2023-06-04T12:49:49.150837",
     "exception": false,
     "start_time": "2023-06-04T12:49:49.139322",
     "status": "completed"
    },
    "tags": []
   },
   "source": [
    "<p>checking the correlation between our variables, here we can see that we don't have a strong correlation between the variables</p>"
   ]
  },
  {
   "cell_type": "markdown",
   "id": "97faf0e1",
   "metadata": {
    "papermill": {
     "duration": 0.011189,
     "end_time": "2023-06-04T12:49:49.173668",
     "exception": false,
     "start_time": "2023-06-04T12:49:49.162479",
     "status": "completed"
    },
    "tags": []
   },
   "source": [
    "<p style=\"font-size: 18px\"><b>categorical variables</b><p>"
   ]
  },
  {
   "cell_type": "code",
   "execution_count": 12,
   "id": "1f5ebbac",
   "metadata": {
    "execution": {
     "iopub.execute_input": "2023-06-04T12:49:49.197795Z",
     "iopub.status.busy": "2023-06-04T12:49:49.197482Z",
     "iopub.status.idle": "2023-06-04T12:49:50.275347Z",
     "shell.execute_reply": "2023-06-04T12:49:50.273910Z"
    },
    "papermill": {
     "duration": 1.092662,
     "end_time": "2023-06-04T12:49:50.277652",
     "exception": false,
     "start_time": "2023-06-04T12:49:49.184990",
     "status": "completed"
    },
    "tags": []
   },
   "outputs": [
    {
     "data": {
      "text/plain": [
       "<Axes: xlabel='churn', ylabel='count'>"
      ]
     },
     "execution_count": 12,
     "metadata": {},
     "output_type": "execute_result"
    },
    {
     "data": {
      "image/png": "[encoded data removed]",
      "text/plain": [
       "<Figure size 2500x2500 with 7 Axes>"
      ]
     },
     "metadata": {},
     "output_type": "display_data"
    }
   ],
   "source": [
    "plt.figure(figsize = (25,25))\n",
    "\n",
    "plt.subplot(4,2,1)\n",
    "sns.countplot(x = 'country', palette='Set2', data = df)\n",
    "\n",
    "plt.subplot(4,2,2)\n",
    "sns.countplot(x = 'gender', palette='Set2', data = df)\n",
    "\n",
    "plt.subplot(4,2,3)\n",
    "sns.countplot(x = 'tenure', palette='Set2', data = df)\n",
    "\n",
    "plt.subplot(4,2,4)\n",
    "sns.countplot(x = 'products_number', palette='Set2', data = df)\n",
    "\n",
    "plt.subplot(4,2,5)\n",
    "sns.countplot(x = 'credit_card', palette='Set2', data = df)\n",
    "\n",
    "plt.subplot(4,2,6)\n",
    "sns.countplot(x = 'active_member', palette='Set2', data = df)\n",
    "\n",
    "plt.subplot(4,2,7)\n",
    "sns.countplot(x = 'churn', palette='Set2', data = df)"
   ]
  },
  {
   "cell_type": "markdown",
   "id": "b51b5680",
   "metadata": {
    "papermill": {
     "duration": 0.012412,
     "end_time": "2023-06-04T12:49:50.303275",
     "exception": false,
     "start_time": "2023-06-04T12:49:50.290863",
     "status": "completed"
    },
    "tags": []
   },
   "source": [
    "<p style=\"font-size: 18px\"><b>Bivariate Analysis</b><p>\n"
   ]
  },
  {
   "cell_type": "code",
   "execution_count": 13,
   "id": "11909dda",
   "metadata": {
    "execution": {
     "iopub.execute_input": "2023-06-04T12:49:50.329215Z",
     "iopub.status.busy": "2023-06-04T12:49:50.328877Z",
     "iopub.status.idle": "2023-06-04T12:49:51.509056Z",
     "shell.execute_reply": "2023-06-04T12:49:51.508031Z"
    },
    "papermill": {
     "duration": 1.195387,
     "end_time": "2023-06-04T12:49:51.511030",
     "exception": false,
     "start_time": "2023-06-04T12:49:50.315643",
     "status": "completed"
    },
    "tags": []
   },
   "outputs": [
    {
     "data": {
      "text/plain": [
       "<Axes: xlabel='churn', ylabel='count'>"
      ]
     },
     "execution_count": 13,
     "metadata": {},
     "output_type": "execute_result"
    },
    {
     "data": {
      "image/png": "[encoded data removed]",
      "text/plain": [
       "<Figure size 2000x2000 with 6 Axes>"
      ]
     },
     "metadata": {},
     "output_type": "display_data"
    }
   ],
   "source": [
    "plt.figure(figsize = (20,20))\n",
    "\n",
    "plt.subplot(3,2,1)\n",
    "sns.countplot(x = 'churn', hue= 'country', palette='Set1', data = df)\n",
    "\n",
    "plt.subplot(3,2,2)\n",
    "sns.countplot(x = 'churn', hue= 'gender', palette='Set1', data = df)\n",
    "\n",
    "plt.subplot(3,2,3)\n",
    "sns.countplot(x = 'churn', hue= 'tenure', palette='Set1', data = df)\n",
    "\n",
    "plt.subplot(3,2,4)\n",
    "sns.countplot(x = 'churn', hue= 'products_number', palette='Set1', data = df)\n",
    "\n",
    "plt.subplot(3,2,5)\n",
    "sns.countplot(x = 'churn', hue= 'credit_card', palette='Set1', data = df)\n",
    "\n",
    "plt.subplot(3,2,6)\n",
    "sns.countplot(x = 'churn', hue= 'active_member', palette='Set1', data = df)"
   ]
  },
  {
   "cell_type": "code",
   "execution_count": 14,
   "id": "6d5a6737",
   "metadata": {
    "execution": {
     "iopub.execute_input": "2023-06-04T12:49:51.539006Z",
     "iopub.status.busy": "2023-06-04T12:49:51.538657Z",
     "iopub.status.idle": "2023-06-04T12:49:51.674146Z",
     "shell.execute_reply": "2023-06-04T12:49:51.673189Z"
    },
    "papermill": {
     "duration": 0.151508,
     "end_time": "2023-06-04T12:49:51.676022",
     "exception": false,
     "start_time": "2023-06-04T12:49:51.524514",
     "status": "completed"
    },
    "tags": []
   },
   "outputs": [
    {
     "data": {
      "text/html": [
       "<style type=\"text/css\">\n",
       "#T_57739_row0_col0, #T_57739_row0_col1, #T_57739_row0_col3, #T_57739_row0_col5, #T_57739_row0_col6, #T_57739_row0_col7, #T_57739_row1_col2, #T_57739_row1_col4, #T_57739_row1_col8 {\n",
       "  background-color: #ffffff;\n",
       "  color: #000000;\n",
       "}\n",
       "#T_57739_row0_col2, #T_57739_row0_col4, #T_57739_row0_col8, #T_57739_row1_col0, #T_57739_row1_col1, #T_57739_row1_col3, #T_57739_row1_col5, #T_57739_row1_col6, #T_57739_row1_col7 {\n",
       "  background-color: #008000;\n",
       "  color: #f1f1f1;\n",
       "}\n",
       "</style>\n",
       "<table id=\"T_57739\">\n",
       "  <thead>\n",
       "    <tr>\n",
       "      <th class=\"blank level0\" >&nbsp;</th>\n",
       "      <th id=\"T_57739_level0_col0\" class=\"col_heading level0 col0\" >customer_id</th>\n",
       "      <th id=\"T_57739_level0_col1\" class=\"col_heading level0 col1\" >credit_score</th>\n",
       "      <th id=\"T_57739_level0_col2\" class=\"col_heading level0 col2\" >age</th>\n",
       "      <th id=\"T_57739_level0_col3\" class=\"col_heading level0 col3\" >tenure</th>\n",
       "      <th id=\"T_57739_level0_col4\" class=\"col_heading level0 col4\" >balance</th>\n",
       "      <th id=\"T_57739_level0_col5\" class=\"col_heading level0 col5\" >products_number</th>\n",
       "      <th id=\"T_57739_level0_col6\" class=\"col_heading level0 col6\" >credit_card</th>\n",
       "      <th id=\"T_57739_level0_col7\" class=\"col_heading level0 col7\" >active_member</th>\n",
       "      <th id=\"T_57739_level0_col8\" class=\"col_heading level0 col8\" >estimated_salary</th>\n",
       "    </tr>\n",
       "    <tr>\n",
       "      <th class=\"index_name level0\" >churn</th>\n",
       "      <th class=\"blank col0\" >&nbsp;</th>\n",
       "      <th class=\"blank col1\" >&nbsp;</th>\n",
       "      <th class=\"blank col2\" >&nbsp;</th>\n",
       "      <th class=\"blank col3\" >&nbsp;</th>\n",
       "      <th class=\"blank col4\" >&nbsp;</th>\n",
       "      <th class=\"blank col5\" >&nbsp;</th>\n",
       "      <th class=\"blank col6\" >&nbsp;</th>\n",
       "      <th class=\"blank col7\" >&nbsp;</th>\n",
       "      <th class=\"blank col8\" >&nbsp;</th>\n",
       "    </tr>\n",
       "  </thead>\n",
       "  <tbody>\n",
       "    <tr>\n",
       "      <th id=\"T_57739_level0_row0\" class=\"row_heading level0 row0\" >0</th>\n",
       "      <td id=\"T_57739_row0_col0\" class=\"data row0 col0\" >15691167.881703</td>\n",
       "      <td id=\"T_57739_row0_col1\" class=\"data row0 col1\" >651.853196</td>\n",
       "      <td id=\"T_57739_row0_col2\" class=\"data row0 col2\" >37.408389</td>\n",
       "      <td id=\"T_57739_row0_col3\" class=\"data row0 col3\" >5.033279</td>\n",
       "      <td id=\"T_57739_row0_col4\" class=\"data row0 col4\" >72745.296779</td>\n",
       "      <td id=\"T_57739_row0_col5\" class=\"data row0 col5\" >1.544267</td>\n",
       "      <td id=\"T_57739_row0_col6\" class=\"data row0 col6\" >0.707146</td>\n",
       "      <td id=\"T_57739_row0_col7\" class=\"data row0 col7\" >0.554565</td>\n",
       "      <td id=\"T_57739_row0_col8\" class=\"data row0 col8\" >99738.391772</td>\n",
       "    </tr>\n",
       "    <tr>\n",
       "      <th id=\"T_57739_level0_row1\" class=\"row_heading level0 row1\" >1</th>\n",
       "      <td id=\"T_57739_row1_col0\" class=\"data row1 col0\" >15690051.964654</td>\n",
       "      <td id=\"T_57739_row1_col1\" class=\"data row1 col1\" >645.351497</td>\n",
       "      <td id=\"T_57739_row1_col2\" class=\"data row1 col2\" >44.837997</td>\n",
       "      <td id=\"T_57739_row1_col3\" class=\"data row1 col3\" >4.932744</td>\n",
       "      <td id=\"T_57739_row1_col4\" class=\"data row1 col4\" >91108.539337</td>\n",
       "      <td id=\"T_57739_row1_col5\" class=\"data row1 col5\" >1.475209</td>\n",
       "      <td id=\"T_57739_row1_col6\" class=\"data row1 col6\" >0.699067</td>\n",
       "      <td id=\"T_57739_row1_col7\" class=\"data row1 col7\" >0.360825</td>\n",
       "      <td id=\"T_57739_row1_col8\" class=\"data row1 col8\" >101465.677531</td>\n",
       "    </tr>\n",
       "  </tbody>\n",
       "</table>\n"
      ],
      "text/plain": [
       "<pandas.io.formats.style.Styler at 0x7ff681e35a80>"
      ]
     },
     "execution_count": 14,
     "metadata": {},
     "output_type": "execute_result"
    }
   ],
   "source": [
    "features = df.keys()\n",
    "features = features.drop('churn')\n",
    "subsets = ['credit_score']\n",
    "df.groupby('churn')[features].mean().style.background_gradient(cmap = \"ocean\")"
   ]
  },
  {
   "cell_type": "code",
   "execution_count": 15,
   "id": "87025b77",
   "metadata": {
    "execution": {
     "iopub.execute_input": "2023-06-04T12:49:51.706485Z",
     "iopub.status.busy": "2023-06-04T12:49:51.706109Z",
     "iopub.status.idle": "2023-06-04T12:49:51.730585Z",
     "shell.execute_reply": "2023-06-04T12:49:51.729428Z"
    },
    "papermill": {
     "duration": 0.04204,
     "end_time": "2023-06-04T12:49:51.732761",
     "exception": false,
     "start_time": "2023-06-04T12:49:51.690721",
     "status": "completed"
    },
    "tags": []
   },
   "outputs": [
    {
     "data": {
      "text/html": [
       "<style type=\"text/css\">\n",
       "#T_6355a_row0_col0, #T_6355a_row0_col1, #T_6355a_row0_col5, #T_6355a_row0_col7, #T_6355a_row1_col2, #T_6355a_row1_col4, #T_6355a_row1_col8 {\n",
       "  background-color: #ffffff;\n",
       "  color: #000000;\n",
       "}\n",
       "#T_6355a_row0_col2, #T_6355a_row0_col3, #T_6355a_row0_col4, #T_6355a_row0_col6, #T_6355a_row0_col8, #T_6355a_row1_col0, #T_6355a_row1_col1, #T_6355a_row1_col3, #T_6355a_row1_col5, #T_6355a_row1_col6, #T_6355a_row1_col7 {\n",
       "  background-color: #008000;\n",
       "  color: #f1f1f1;\n",
       "}\n",
       "</style>\n",
       "<table id=\"T_6355a\">\n",
       "  <thead>\n",
       "    <tr>\n",
       "      <th class=\"blank level0\" >&nbsp;</th>\n",
       "      <th id=\"T_6355a_level0_col0\" class=\"col_heading level0 col0\" >customer_id</th>\n",
       "      <th id=\"T_6355a_level0_col1\" class=\"col_heading level0 col1\" >credit_score</th>\n",
       "      <th id=\"T_6355a_level0_col2\" class=\"col_heading level0 col2\" >age</th>\n",
       "      <th id=\"T_6355a_level0_col3\" class=\"col_heading level0 col3\" >tenure</th>\n",
       "      <th id=\"T_6355a_level0_col4\" class=\"col_heading level0 col4\" >balance</th>\n",
       "      <th id=\"T_6355a_level0_col5\" class=\"col_heading level0 col5\" >products_number</th>\n",
       "      <th id=\"T_6355a_level0_col6\" class=\"col_heading level0 col6\" >credit_card</th>\n",
       "      <th id=\"T_6355a_level0_col7\" class=\"col_heading level0 col7\" >active_member</th>\n",
       "      <th id=\"T_6355a_level0_col8\" class=\"col_heading level0 col8\" >estimated_salary</th>\n",
       "    </tr>\n",
       "    <tr>\n",
       "      <th class=\"index_name level0\" >churn</th>\n",
       "      <th class=\"blank col0\" >&nbsp;</th>\n",
       "      <th class=\"blank col1\" >&nbsp;</th>\n",
       "      <th class=\"blank col2\" >&nbsp;</th>\n",
       "      <th class=\"blank col3\" >&nbsp;</th>\n",
       "      <th class=\"blank col4\" >&nbsp;</th>\n",
       "      <th class=\"blank col5\" >&nbsp;</th>\n",
       "      <th class=\"blank col6\" >&nbsp;</th>\n",
       "      <th class=\"blank col7\" >&nbsp;</th>\n",
       "      <th class=\"blank col8\" >&nbsp;</th>\n",
       "    </tr>\n",
       "  </thead>\n",
       "  <tbody>\n",
       "    <tr>\n",
       "      <th id=\"T_6355a_level0_row0\" class=\"row_heading level0 row0\" >0</th>\n",
       "      <td id=\"T_6355a_row0_col0\" class=\"data row0 col0\" >15691543.000000</td>\n",
       "      <td id=\"T_6355a_row0_col1\" class=\"data row0 col1\" >653.000000</td>\n",
       "      <td id=\"T_6355a_row0_col2\" class=\"data row0 col2\" >36.000000</td>\n",
       "      <td id=\"T_6355a_row0_col3\" class=\"data row0 col3\" >5.000000</td>\n",
       "      <td id=\"T_6355a_row0_col4\" class=\"data row0 col4\" >92072.680000</td>\n",
       "      <td id=\"T_6355a_row0_col5\" class=\"data row0 col5\" >2.000000</td>\n",
       "      <td id=\"T_6355a_row0_col6\" class=\"data row0 col6\" >1.000000</td>\n",
       "      <td id=\"T_6355a_row0_col7\" class=\"data row0 col7\" >1.000000</td>\n",
       "      <td id=\"T_6355a_row0_col8\" class=\"data row0 col8\" >99645.040000</td>\n",
       "    </tr>\n",
       "    <tr>\n",
       "      <th id=\"T_6355a_level0_row1\" class=\"row_heading level0 row1\" >1</th>\n",
       "      <td id=\"T_6355a_row1_col0\" class=\"data row1 col0\" >15688963.000000</td>\n",
       "      <td id=\"T_6355a_row1_col1\" class=\"data row1 col1\" >646.000000</td>\n",
       "      <td id=\"T_6355a_row1_col2\" class=\"data row1 col2\" >45.000000</td>\n",
       "      <td id=\"T_6355a_row1_col3\" class=\"data row1 col3\" >5.000000</td>\n",
       "      <td id=\"T_6355a_row1_col4\" class=\"data row1 col4\" >109349.290000</td>\n",
       "      <td id=\"T_6355a_row1_col5\" class=\"data row1 col5\" >1.000000</td>\n",
       "      <td id=\"T_6355a_row1_col6\" class=\"data row1 col6\" >1.000000</td>\n",
       "      <td id=\"T_6355a_row1_col7\" class=\"data row1 col7\" >0.000000</td>\n",
       "      <td id=\"T_6355a_row1_col8\" class=\"data row1 col8\" >102460.840000</td>\n",
       "    </tr>\n",
       "  </tbody>\n",
       "</table>\n"
      ],
      "text/plain": [
       "<pandas.io.formats.style.Styler at 0x7ff6abe99c90>"
      ]
     },
     "execution_count": 15,
     "metadata": {},
     "output_type": "execute_result"
    }
   ],
   "source": [
    "df.groupby('churn')[features].median().style.background_gradient(cmap = \"ocean\")"
   ]
  },
  {
   "cell_type": "markdown",
   "id": "924e79f2",
   "metadata": {
    "papermill": {
     "duration": 0.013974,
     "end_time": "2023-06-04T12:49:51.760863",
     "exception": false,
     "start_time": "2023-06-04T12:49:51.746889",
     "status": "completed"
    },
    "tags": []
   },
   "source": [
    "<h3>⭐important observation</h3>\n",
    "<ul>\n",
    "    <li>Around 20% of the customers have Churned</li>\n",
    "    <li>Age has the highest positive correlation with the Churned Customers. Hence we can say that older customers are more likely to churn than the younger ones.</li>\n",
    "    <li>Females have churned more than Males.</li>\n",
    "    <li>Customers with credit card have churned more than people who do not have it. May be because credit card influences your spending habits in a negative way.</li>\n",
    "    <li>People who are active member of bank have churned less than those who are'nt.</li>\n",
    "    <li>Credit Score and Estimated Salary are almost same for both churned and not churned people.</li>\n",
    "    <li>The percent of French people churned is least and that of German is most.</li>\n",
    "</ul>"
   ]
  },
  {
   "cell_type": "markdown",
   "id": "e027ba2b",
   "metadata": {
    "execution": {
     "iopub.execute_input": "2023-06-04T11:21:46.621702Z",
     "iopub.status.busy": "2023-06-04T11:21:46.621346Z",
     "iopub.status.idle": "2023-06-04T11:21:46.663727Z",
     "shell.execute_reply": "2023-06-04T11:21:46.661791Z",
     "shell.execute_reply.started": "2023-06-04T11:21:46.621679Z"
    },
    "papermill": {
     "duration": 0.013738,
     "end_time": "2023-06-04T12:49:51.788548",
     "exception": false,
     "start_time": "2023-06-04T12:49:51.774810",
     "status": "completed"
    },
    "tags": []
   },
   "source": [
    "<h2>Modeling</h2>"
   ]
  },
  {
   "cell_type": "markdown",
   "id": "1f205b60",
   "metadata": {
    "papermill": {
     "duration": 0.01368,
     "end_time": "2023-06-04T12:49:51.816223",
     "exception": false,
     "start_time": "2023-06-04T12:49:51.802543",
     "status": "completed"
    },
    "tags": []
   },
   "source": [
    "<h3>Data Preprocessing</h3>"
   ]
  },
  {
   "cell_type": "code",
   "execution_count": 16,
   "id": "8ea3050c",
   "metadata": {
    "execution": {
     "iopub.execute_input": "2023-06-04T12:49:51.847067Z",
     "iopub.status.busy": "2023-06-04T12:49:51.846035Z",
     "iopub.status.idle": "2023-06-04T12:49:51.855550Z",
     "shell.execute_reply": "2023-06-04T12:49:51.854627Z"
    },
    "papermill": {
     "duration": 0.026788,
     "end_time": "2023-06-04T12:49:51.857681",
     "exception": false,
     "start_time": "2023-06-04T12:49:51.830893",
     "status": "completed"
    },
    "tags": []
   },
   "outputs": [
    {
     "data": {
      "text/plain": [
       "array([[619, 'France', 'Female', 42, 2, 0.0, 1, 1, 1],\n",
       "       [608, 'Spain', 'Female', 41, 1, 83807.86, 1, 0, 1],\n",
       "       [502, 'France', 'Female', 42, 8, 159660.8, 3, 1, 0],\n",
       "       [699, 'France', 'Female', 39, 1, 0.0, 2, 0, 0],\n",
       "       [850, 'Spain', 'Female', 43, 2, 125510.82, 1, 1, 1]], dtype=object)"
      ]
     },
     "execution_count": 16,
     "metadata": {},
     "output_type": "execute_result"
    }
   ],
   "source": [
    "# select X and y values\n",
    "X = df.iloc[:, 1:10].values\n",
    "X[0:5]\n"
   ]
  },
  {
   "cell_type": "code",
   "execution_count": 17,
   "id": "8e6da5dd",
   "metadata": {
    "execution": {
     "iopub.execute_input": "2023-06-04T12:49:51.887157Z",
     "iopub.status.busy": "2023-06-04T12:49:51.886761Z",
     "iopub.status.idle": "2023-06-04T12:49:51.892711Z",
     "shell.execute_reply": "2023-06-04T12:49:51.891830Z"
    },
    "papermill": {
     "duration": 0.022424,
     "end_time": "2023-06-04T12:49:51.894212",
     "exception": false,
     "start_time": "2023-06-04T12:49:51.871788",
     "status": "completed"
    },
    "tags": []
   },
   "outputs": [
    {
     "data": {
      "text/plain": [
       "array([1, 0, 1, 0, 0])"
      ]
     },
     "execution_count": 17,
     "metadata": {},
     "output_type": "execute_result"
    }
   ],
   "source": [
    "y = df.iloc[:, 11].values\n",
    "y[0:5]"
   ]
  },
  {
   "cell_type": "markdown",
   "id": "35ae0b5c",
   "metadata": {
    "papermill": {
     "duration": 0.013993,
     "end_time": "2023-06-04T12:49:51.922210",
     "exception": false,
     "start_time": "2023-06-04T12:49:51.908217",
     "status": "completed"
    },
    "tags": []
   },
   "source": [
    "<h4>balancing classes</h4>\n",
    "<p>to undrestand why balancing is nessesary <a href=\"https://analyticsindiamag.com/what-is-imblearn-technique-everything-to-know-for-class-imbalance-issues-in-machine-learning/#:~:text=Imblearn%20techniques%20are%20the%20methods,that%20are%20Upsampling%20and%20Downsampling.\">click here</a> </p>"
   ]
  },
  {
   "cell_type": "code",
   "execution_count": 18,
   "id": "e281dc1e",
   "metadata": {
    "execution": {
     "iopub.execute_input": "2023-06-04T12:49:51.952519Z",
     "iopub.status.busy": "2023-06-04T12:49:51.952150Z",
     "iopub.status.idle": "2023-06-04T12:49:52.356787Z",
     "shell.execute_reply": "2023-06-04T12:49:52.356098Z"
    },
    "papermill": {
     "duration": 0.422099,
     "end_time": "2023-06-04T12:49:52.358627",
     "exception": false,
     "start_time": "2023-06-04T12:49:51.936528",
     "status": "completed"
    },
    "tags": []
   },
   "outputs": [
    {
     "data": {
      "image/png": "[encoded data removed]",
      "text/plain": [
       "<Figure size 640x480 with 1 Axes>"
      ]
     },
     "metadata": {},
     "output_type": "display_data"
    }
   ],
   "source": [
    "from imblearn.over_sampling import RandomOverSampler\n",
    "ros = RandomOverSampler(random_state=0)\n",
    "X, y = ros.fit_resample(X, y)\n",
    "ax = sns.countplot(x=y)"
   ]
  },
  {
   "cell_type": "markdown",
   "id": "ee6ad5f8",
   "metadata": {
    "execution": {
     "iopub.execute_input": "2023-06-04T11:48:21.281759Z",
     "iopub.status.busy": "2023-06-04T11:48:21.281348Z",
     "iopub.status.idle": "2023-06-04T11:48:21.288821Z",
     "shell.execute_reply": "2023-06-04T11:48:21.286935Z",
     "shell.execute_reply.started": "2023-06-04T11:48:21.281730Z"
    },
    "papermill": {
     "duration": 0.014469,
     "end_time": "2023-06-04T12:49:52.387907",
     "exception": false,
     "start_time": "2023-06-04T12:49:52.373438",
     "status": "completed"
    },
    "tags": []
   },
   "source": [
    "<h4>Label Encoder</h4>\n",
    "<p>Using LabelEncoder to transform categorical variables into continuous variables.</p>\n"
   ]
  },
  {
   "cell_type": "code",
   "execution_count": 19,
   "id": "bf6ebad8",
   "metadata": {
    "execution": {
     "iopub.execute_input": "2023-06-04T12:49:52.419122Z",
     "iopub.status.busy": "2023-06-04T12:49:52.418535Z",
     "iopub.status.idle": "2023-06-04T12:49:52.437747Z",
     "shell.execute_reply": "2023-06-04T12:49:52.437099Z"
    },
    "papermill": {
     "duration": 0.037306,
     "end_time": "2023-06-04T12:49:52.439910",
     "exception": false,
     "start_time": "2023-06-04T12:49:52.402604",
     "status": "completed"
    },
    "tags": []
   },
   "outputs": [],
   "source": [
    "le_gender = LabelEncoder()\n",
    "le_gender.fit(['Female', 'Male'])\n",
    "X[:,2] = le_gender.transform(X[:,2])\n",
    "\n",
    "le_country = LabelEncoder()\n",
    "le_country.fit(['France', 'Spain', 'Germany'])\n",
    "X[:,1] = le_country.transform(X[:,1])\n"
   ]
  },
  {
   "cell_type": "code",
   "execution_count": 20,
   "id": "80ab9e26",
   "metadata": {
    "execution": {
     "iopub.execute_input": "2023-06-04T12:49:52.470431Z",
     "iopub.status.busy": "2023-06-04T12:49:52.470080Z",
     "iopub.status.idle": "2023-06-04T12:49:52.478095Z",
     "shell.execute_reply": "2023-06-04T12:49:52.477170Z"
    },
    "papermill": {
     "duration": 0.025513,
     "end_time": "2023-06-04T12:49:52.480080",
     "exception": false,
     "start_time": "2023-06-04T12:49:52.454567",
     "status": "completed"
    },
    "tags": []
   },
   "outputs": [
    {
     "data": {
      "text/plain": [
       "array([[619, 0, 0, 42, 2, 0.0, 1, 1, 1],\n",
       "       [608, 2, 0, 41, 1, 83807.86, 1, 0, 1],\n",
       "       [502, 0, 0, 42, 8, 159660.8, 3, 1, 0],\n",
       "       [699, 0, 0, 39, 1, 0.0, 2, 0, 0],\n",
       "       [850, 2, 0, 43, 2, 125510.82, 1, 1, 1],\n",
       "       [645, 2, 1, 44, 8, 113755.78, 2, 1, 0],\n",
       "       [822, 0, 1, 50, 7, 0.0, 2, 1, 1],\n",
       "       [376, 1, 0, 29, 4, 115046.74, 4, 1, 0],\n",
       "       [501, 0, 1, 44, 4, 142051.07, 2, 0, 1],\n",
       "       [684, 0, 1, 27, 2, 134603.88, 1, 1, 1]], dtype=object)"
      ]
     },
     "execution_count": 20,
     "metadata": {},
     "output_type": "execute_result"
    }
   ],
   "source": [
    "X[0:10]"
   ]
  },
  {
   "cell_type": "markdown",
   "id": "fc0941ba",
   "metadata": {
    "papermill": {
     "duration": 0.016557,
     "end_time": "2023-06-04T12:49:52.511172",
     "exception": false,
     "start_time": "2023-06-04T12:49:52.494615",
     "status": "completed"
    },
    "tags": []
   },
   "source": [
    "<h4> standard scaler </h4>"
   ]
  },
  {
   "cell_type": "code",
   "execution_count": 21,
   "id": "8fe560c6",
   "metadata": {
    "execution": {
     "iopub.execute_input": "2023-06-04T12:49:52.541391Z",
     "iopub.status.busy": "2023-06-04T12:49:52.541069Z",
     "iopub.status.idle": "2023-06-04T12:49:52.561373Z",
     "shell.execute_reply": "2023-06-04T12:49:52.560336Z"
    },
    "papermill": {
     "duration": 0.037824,
     "end_time": "2023-06-04T12:49:52.563231",
     "exception": false,
     "start_time": "2023-06-04T12:49:52.525407",
     "status": "completed"
    },
    "tags": []
   },
   "outputs": [
    {
     "data": {
      "text/plain": [
       "array([[-0.29877723, -0.95773012, -1.01799435,  0.08418894, -1.01840607,\n",
       "        -1.33103279, -0.75606167,  0.6512495 ,  1.08223556],\n",
       "       [-0.4103938 ,  1.54539778, -1.01799435, -0.01032629, -1.36135608,\n",
       "         0.03246589, -0.75606167, -1.53550983,  1.08223556],\n",
       "       [-1.48597169, -0.95773012, -1.01799435,  0.08418894,  1.03929402,\n",
       "         1.26654326,  2.20861596,  0.6512495 , -0.92401325],\n",
       "       [ 0.51297967, -0.95773012, -1.01799435, -0.19935676, -1.36135608,\n",
       "        -1.33103279,  0.72627714, -1.53550983, -0.92401325],\n",
       "       [ 2.04517081,  1.54539778, -1.01799435,  0.17870418, -1.01840607,\n",
       "         0.71094558, -0.75606167,  0.6512495 ,  1.08223556],\n",
       "       [-0.03495624,  1.54539778,  0.98232373,  0.27321941,  1.03929402,\n",
       "         0.51969882,  0.72627714,  0.6512495 , -0.92401325],\n",
       "       [ 1.7610559 , -0.95773012,  0.98232373,  0.84031081,  0.696344  ,\n",
       "        -1.33103279,  0.72627714,  0.6512495 ,  1.08223556],\n",
       "       [-2.7644888 ,  0.29383383, -1.01799435, -1.14450909, -0.33250604,\n",
       "         0.54070189,  3.69095478,  0.6512495 , -0.92401325],\n",
       "       [-1.49611865, -0.95773012,  0.98232373,  0.27321941, -0.33250604,\n",
       "         0.98004455,  0.72627714, -1.53550983,  1.08223556],\n",
       "       [ 0.36077525, -0.95773012,  0.98232373, -1.33353956, -1.01840607,\n",
       "         0.85888367, -0.75606167,  0.6512495 ,  1.08223556]])"
      ]
     },
     "execution_count": 21,
     "metadata": {},
     "output_type": "execute_result"
    }
   ],
   "source": [
    "scaler = StandardScaler()\n",
    "X_standard = scaler.fit_transform(X)\n",
    "X_standard[0:10]"
   ]
  },
  {
   "cell_type": "markdown",
   "id": "ebcef5ce",
   "metadata": {
    "papermill": {
     "duration": 0.013764,
     "end_time": "2023-06-04T12:49:52.591258",
     "exception": false,
     "start_time": "2023-06-04T12:49:52.577494",
     "status": "completed"
    },
    "tags": []
   },
   "source": [
    "<h4> train/split data </h4>"
   ]
  },
  {
   "cell_type": "code",
   "execution_count": 22,
   "id": "0874f2f7",
   "metadata": {
    "execution": {
     "iopub.execute_input": "2023-06-04T12:49:52.621789Z",
     "iopub.status.busy": "2023-06-04T12:49:52.620660Z",
     "iopub.status.idle": "2023-06-04T12:49:52.628817Z",
     "shell.execute_reply": "2023-06-04T12:49:52.627987Z"
    },
    "papermill": {
     "duration": 0.025174,
     "end_time": "2023-06-04T12:49:52.630598",
     "exception": false,
     "start_time": "2023-06-04T12:49:52.605424",
     "status": "completed"
    },
    "tags": []
   },
   "outputs": [
    {
     "name": "stdout",
     "output_type": "stream",
     "text": [
      "(11148, 9) (4778, 9)\n",
      "(11148,) (4778,)\n"
     ]
    }
   ],
   "source": [
    "X_train, X_test, y_train, y_test = train_test_split(X_standard, y, test_size=0.3, random_state=0)\n",
    "print (X_train.shape, X_test.shape)\n",
    "print (y_train.shape, y_test.shape)"
   ]
  },
  {
   "cell_type": "markdown",
   "id": "e99d27de",
   "metadata": {
    "papermill": {
     "duration": 0.014626,
     "end_time": "2023-06-04T12:49:52.660393",
     "exception": false,
     "start_time": "2023-06-04T12:49:52.645767",
     "status": "completed"
    },
    "tags": []
   },
   "source": [
    "<h4>Model Implementation</h4>"
   ]
  },
  {
   "cell_type": "code",
   "execution_count": 23,
   "id": "fdc87566",
   "metadata": {
    "execution": {
     "iopub.execute_input": "2023-06-04T12:49:52.692175Z",
     "iopub.status.busy": "2023-06-04T12:49:52.691822Z",
     "iopub.status.idle": "2023-06-04T12:50:17.302214Z",
     "shell.execute_reply": "2023-06-04T12:50:17.300747Z"
    },
    "papermill": {
     "duration": 24.628217,
     "end_time": "2023-06-04T12:50:17.304314",
     "exception": false,
     "start_time": "2023-06-04T12:49:52.676097",
     "status": "completed"
    },
    "tags": []
   },
   "outputs": [
    {
     "name": "stderr",
     "output_type": "stream",
     "text": [
      "100%|██████████| 29/29 [00:24<00:00,  1.18it/s]\n"
     ]
    }
   ],
   "source": [
    "clf = LazyClassifier(verbose=0, ignore_warnings=True, custom_metric = None,classifiers = 'all')\n",
    "models,predictions = clf.fit(X_train, X_test, y_train, y_test)"
   ]
  },
  {
   "cell_type": "code",
   "execution_count": 24,
   "id": "f1134b8d",
   "metadata": {
    "execution": {
     "iopub.execute_input": "2023-06-04T12:50:17.340921Z",
     "iopub.status.busy": "2023-06-04T12:50:17.340544Z",
     "iopub.status.idle": "2023-06-04T12:50:17.349687Z",
     "shell.execute_reply": "2023-06-04T12:50:17.348003Z"
    },
    "papermill": {
     "duration": 0.031539,
     "end_time": "2023-06-04T12:50:17.352346",
     "exception": false,
     "start_time": "2023-06-04T12:50:17.320807",
     "status": "completed"
    },
    "tags": []
   },
   "outputs": [
    {
     "name": "stdout",
     "output_type": "stream",
     "text": [
      "                               Accuracy  Balanced Accuracy  ROC AUC  F1 Score  \\\n",
      "Model                                                                           \n",
      "ExtraTreesClassifier               0.95               0.95     0.95      0.95   \n",
      "RandomForestClassifier             0.94               0.94     0.94      0.94   \n",
      "BaggingClassifier                  0.93               0.93     0.93      0.93   \n",
      "ExtraTreeClassifier                0.90               0.90     0.90      0.90   \n",
      "LabelPropagation                   0.90               0.90     0.90      0.90   \n",
      "LabelSpreading                     0.90               0.90     0.90      0.90   \n",
      "DecisionTreeClassifier             0.90               0.90     0.90      0.90   \n",
      "XGBClassifier                      0.88               0.88     0.88      0.88   \n",
      "LGBMClassifier                     0.84               0.84     0.84      0.84   \n",
      "KNeighborsClassifier               0.82               0.82     0.82      0.82   \n",
      "NuSVC                              0.79               0.79     0.79      0.79   \n",
      "SVC                                0.79               0.79     0.79      0.79   \n",
      "AdaBoostClassifier                 0.76               0.76     0.76      0.76   \n",
      "GaussianNB                         0.74               0.74     0.74      0.74   \n",
      "QuadraticDiscriminantAnalysis      0.74               0.74     0.74      0.74   \n",
      "LinearSVC                          0.70               0.70     0.70      0.70   \n",
      "LinearDiscriminantAnalysis         0.70               0.70     0.70      0.70   \n",
      "RidgeClassifier                    0.70               0.70     0.70      0.70   \n",
      "RidgeClassifierCV                  0.70               0.70     0.70      0.70   \n",
      "CalibratedClassifierCV             0.70               0.70     0.70      0.70   \n",
      "LogisticRegression                 0.70               0.70     0.70      0.70   \n",
      "BernoulliNB                        0.70               0.70     0.70      0.70   \n",
      "NearestCentroid                    0.69               0.69     0.69      0.69   \n",
      "SGDClassifier                      0.69               0.69     0.69      0.69   \n",
      "PassiveAggressiveClassifier        0.59               0.59     0.59      0.59   \n",
      "Perceptron                         0.57               0.57     0.57      0.57   \n",
      "DummyClassifier                    0.50               0.50     0.50      0.33   \n",
      "\n",
      "                               Time Taken  \n",
      "Model                                      \n",
      "ExtraTreesClassifier                 1.15  \n",
      "RandomForestClassifier               1.48  \n",
      "BaggingClassifier                    0.32  \n",
      "ExtraTreeClassifier                  0.03  \n",
      "LabelPropagation                     2.53  \n",
      "LabelSpreading                       3.46  \n",
      "DecisionTreeClassifier               0.07  \n",
      "XGBClassifier                        1.06  \n",
      "LGBMClassifier                       1.01  \n",
      "KNeighborsClassifier                 0.25  \n",
      "NuSVC                                5.13  \n",
      "SVC                                  3.84  \n",
      "AdaBoostClassifier                   0.47  \n",
      "GaussianNB                           0.02  \n",
      "QuadraticDiscriminantAnalysis        0.04  \n",
      "LinearSVC                            0.78  \n",
      "LinearDiscriminantAnalysis           0.06  \n",
      "RidgeClassifier                      0.03  \n",
      "RidgeClassifierCV                    0.07  \n",
      "CalibratedClassifierCV               2.37  \n",
      "LogisticRegression                   0.03  \n",
      "BernoulliNB                          0.02  \n",
      "NearestCentroid                      0.14  \n",
      "SGDClassifier                        0.12  \n",
      "PassiveAggressiveClassifier          0.03  \n",
      "Perceptron                           0.03  \n",
      "DummyClassifier                      0.02  \n"
     ]
    }
   ],
   "source": [
    "print(models)"
   ]
  },
  {
   "cell_type": "markdown",
   "id": "1a8e4d16",
   "metadata": {
    "papermill": {
     "duration": 0.016128,
     "end_time": "2023-06-04T12:50:17.384814",
     "exception": false,
     "start_time": "2023-06-04T12:50:17.368686",
     "status": "completed"
    },
    "tags": []
   },
   "source": [
    "<h2>EngNote</h2>\n",
    "<p>If you liked my notebook please support with an upvote 👍,and feel free to give any suggestions in the comment box.</p>"
   ]
  },
  {
   "cell_type": "code",
   "execution_count": null,
   "id": "d736dab7",
   "metadata": {
    "papermill": {
     "duration": 0.016153,
     "end_time": "2023-06-04T12:50:17.417223",
     "exception": false,
     "start_time": "2023-06-04T12:50:17.401070",
     "status": "completed"
    },
    "tags": []
   },
   "outputs": [],
   "source": []
  }
 ],
 "metadata": {
  "kernelspec": {
   "display_name": "Python 3",
   "language": "python",
   "name": "python3"
  },
  "language_info": {
   "codemirror_mode": {
    "name": "ipython",
    "version": 3
   },
   "file_extension": ".py",
   "mimetype": "text/x-python",
   "name": "python",
   "nbconvert_exporter": "python",
   "pygments_lexer": "ipython3",
   "version": "3.10.10"
  },
  "papermill": {
   "default_parameters": {},
   "duration": 55.390407,
   "end_time": "2023-06-04T12:50:19.700710",
   "environment_variables": {},
   "exception": null,
   "input_path": "__notebook__.ipynb",
   "output_path": "__notebook__.ipynb",
   "parameters": {},
   "start_time": "2023-06-04T12:49:24.310303",
   "version": "2.4.0"
  }
 },
 "nbformat": 4,
 "nbformat_minor": 5
}
